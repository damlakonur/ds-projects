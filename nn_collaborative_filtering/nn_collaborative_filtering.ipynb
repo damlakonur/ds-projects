{
 "cells": [
  {
   "cell_type": "code",
   "execution_count": 2,
   "metadata": {},
   "outputs": [],
   "source": [
    "import pandas as pd\n",
    "import numpy as np\n",
    "import matplotlib.pyplot as plt\n",
    "import tensorflow as tf\n",
    "from tensorflow.keras.optimizers import RMSprop\n",
    "import keras_tuner as kt"
   ]
  },
  {
   "cell_type": "markdown",
   "metadata": {},
   "source": [
    "# Loading Data"
   ]
  },
  {
   "cell_type": "code",
   "execution_count": 3,
   "metadata": {},
   "outputs": [],
   "source": [
    "def load_data():\n",
    "    unames = ['user_id', 'gender', 'age', 'occupation', 'zipCode']\n",
    "    users = pd.read_csv('data/users.dat', sep='::',\n",
    "    header=None, names=['user_id', 'gender', 'age', 'occupation', 'zipCode'], engine='python')\n",
    "    ratings = pd.read_csv('data/ratings.dat', sep='::',\n",
    "    header=None, names=['user_id', 'movie_id', 'rating', 'timestamp'], engine='python')\n",
    "    movies = pd.read_csv('data/movies.dat', sep='::',\n",
    "    header=None, names=['movie_id', 'title', 'genres'], engine='python', encoding='ISO-8859-1')\n",
    "    return users, movies, ratings"
   ]
  },
  {
   "cell_type": "code",
   "execution_count": 4,
   "metadata": {},
   "outputs": [],
   "source": [
    "users, movies, ratings = load_data()"
   ]
  },
  {
   "cell_type": "markdown",
   "metadata": {},
   "source": [
    "# Exploring and Prepearing Data "
   ]
  },
  {
   "cell_type": "code",
   "execution_count": 5,
   "metadata": {},
   "outputs": [
    {
     "data": {
      "text/plain": [
       "(   user_id gender  age  occupation zipCode\n",
       " 0        1      F    1          10   48067\n",
       " 1        2      M   56          16   70072\n",
       " 2        3      M   25          15   55117\n",
       " 3        4      M   45           7   02460\n",
       " 4        5      M   25          20   55455,\n",
       "    movie_id                               title                        genres\n",
       " 0         1                    Toy Story (1995)   Animation|Children's|Comedy\n",
       " 1         2                      Jumanji (1995)  Adventure|Children's|Fantasy\n",
       " 2         3             Grumpier Old Men (1995)                Comedy|Romance\n",
       " 3         4            Waiting to Exhale (1995)                  Comedy|Drama\n",
       " 4         5  Father of the Bride Part II (1995)                        Comedy,\n",
       "    user_id  movie_id  rating  timestamp\n",
       " 0        1      1193       5  978300760\n",
       " 1        1       661       3  978302109\n",
       " 2        1       914       3  978301968\n",
       " 3        1      3408       4  978300275\n",
       " 4        1      2355       5  978824291)"
      ]
     },
     "execution_count": 5,
     "metadata": {},
     "output_type": "execute_result"
    }
   ],
   "source": [
    "users.head(), movies.head(), ratings.head()"
   ]
  },
  {
   "cell_type": "markdown",
   "metadata": {},
   "source": [
    "###  Inspecting min - max and nan values "
   ]
  },
  {
   "cell_type": "code",
   "execution_count": 6,
   "metadata": {},
   "outputs": [
    {
     "data": {
      "text/plain": [
       "(5, 1, 0)"
      ]
     },
     "execution_count": 6,
     "metadata": {},
     "output_type": "execute_result"
    }
   ],
   "source": [
    "ratings['rating'].max(), ratings['rating'].min(), ratings['rating'].isna().sum()"
   ]
  },
  {
   "cell_type": "markdown",
   "metadata": {},
   "source": [
    "### All users have at least one rating but there is 177 non-rated movie."
   ]
  },
  {
   "cell_type": "code",
   "execution_count": 7,
   "metadata": {},
   "outputs": [
    {
     "data": {
      "text/plain": [
       "(3706, 6040)"
      ]
     },
     "execution_count": 7,
     "metadata": {},
     "output_type": "execute_result"
    }
   ],
   "source": [
    "len(ratings['movie_id'].unique()), len(ratings['user_id'].unique())"
   ]
  },
  {
   "cell_type": "code",
   "execution_count": 8,
   "metadata": {},
   "outputs": [
    {
     "data": {
      "text/plain": [
       "(3883, 6040)"
      ]
     },
     "execution_count": 8,
     "metadata": {},
     "output_type": "execute_result"
    }
   ],
   "source": [
    "len(movies['movie_id'].unique()), len(users['user_id'].unique())"
   ]
  },
  {
   "cell_type": "markdown",
   "metadata": {},
   "source": [
    "### There is no user rate the same movie more than once."
   ]
  },
  {
   "cell_type": "code",
   "execution_count": 9,
   "metadata": {},
   "outputs": [
    {
     "data": {
      "text/plain": [
       "(1, 1)"
      ]
     },
     "execution_count": 9,
     "metadata": {},
     "output_type": "execute_result"
    }
   ],
   "source": [
    "temp = ratings.groupby(['user_id', 'movie_id'])['rating'].count().reset_index()\n",
    "temp['rating'].max(), temp['rating'].min()"
   ]
  },
  {
   "cell_type": "markdown",
   "metadata": {},
   "source": [
    "### Scoring function that can capture interactions between users and items\n",
    "- Assumption : User's current ratings are more important.\n",
    "In order to implement this, first I converted the time stamp to datetime."
   ]
  },
  {
   "cell_type": "code",
   "execution_count": 10,
   "metadata": {},
   "outputs": [
    {
     "data": {
      "text/plain": [
       "(Timestamp('2003-02-28 17:49:50'), Timestamp('2000-04-25 23:05:32'))"
      ]
     },
     "execution_count": 10,
     "metadata": {},
     "output_type": "execute_result"
    }
   ],
   "source": [
    "ratings['time'] = pd.to_datetime(ratings['timestamp'], unit='s')\n",
    "ratings['time'].max(), ratings['time'].min()"
   ]
  },
  {
   "cell_type": "markdown",
   "metadata": {},
   "source": [
    "Then I normalized the dates between 0-1 as weights. Then I multiply them with ratings and again I normalized those scores between 0-1. Thus, the movies that the user voted most recently will be more important."
   ]
  },
  {
   "cell_type": "code",
   "execution_count": 11,
   "metadata": {},
   "outputs": [],
   "source": [
    "delta = ratings['time'].max() - ratings['time'].min()\n",
    "ratings['weight'] = (ratings['time'] - ratings['time'].min())/delta\n",
    "ratings['new_score'] = ratings['rating'] * ratings['weight']\n",
    "ratings['new_score'] = (ratings['new_score'] - ratings['new_score'].min())/(ratings['new_score'].max() - ratings['new_score'].min())"
   ]
  },
  {
   "cell_type": "markdown",
   "metadata": {},
   "source": [
    "Mapping function creates unique indexes for users and movies."
   ]
  },
  {
   "cell_type": "code",
   "execution_count": 140,
   "metadata": {},
   "outputs": [],
   "source": [
    "def map_indexes(df: pd.DataFrame):\n",
    "    ALL_USERS = df['user_id'].unique().tolist()\n",
    "    ALL_MOVIES = df['movie_id'].unique().tolist()\n",
    "    user_ids = dict(list(enumerate(ALL_USERS)))\n",
    "    movie_ids = dict(list(enumerate(ALL_MOVIES)))\n",
    "    user_map = {u: m for m, u in user_ids.items()}\n",
    "    movie_map = {m: u for u, m in movie_ids.items()}\n",
    "    df['user'] = df['user_id'].map(user_map)\n",
    "    df['movie'] = df['movie_id'].map(movie_map)\n",
    "    return df, user_map, movie_map"
   ]
  },
  {
   "cell_type": "code",
   "execution_count": 141,
   "metadata": {},
   "outputs": [],
   "source": [
    "ratings, user_map, movie_map = map_indexes(ratings)"
   ]
  },
  {
   "cell_type": "code",
   "execution_count": 142,
   "metadata": {},
   "outputs": [
    {
     "data": {
      "text/html": [
       "<div>\n",
       "<style scoped>\n",
       "    .dataframe tbody tr th:only-of-type {\n",
       "        vertical-align: middle;\n",
       "    }\n",
       "\n",
       "    .dataframe tbody tr th {\n",
       "        vertical-align: top;\n",
       "    }\n",
       "\n",
       "    .dataframe thead th {\n",
       "        text-align: right;\n",
       "    }\n",
       "</style>\n",
       "<table border=\"1\" class=\"dataframe\">\n",
       "  <thead>\n",
       "    <tr style=\"text-align: right;\">\n",
       "      <th></th>\n",
       "      <th>user_id</th>\n",
       "      <th>movie_id</th>\n",
       "      <th>rating</th>\n",
       "      <th>timestamp</th>\n",
       "      <th>time</th>\n",
       "      <th>weight</th>\n",
       "      <th>new_score</th>\n",
       "      <th>user</th>\n",
       "      <th>movie</th>\n",
       "    </tr>\n",
       "  </thead>\n",
       "  <tbody>\n",
       "    <tr>\n",
       "      <th>0</th>\n",
       "      <td>1</td>\n",
       "      <td>1193</td>\n",
       "      <td>5</td>\n",
       "      <td>978300760</td>\n",
       "      <td>2000-12-31 22:12:40</td>\n",
       "      <td>0.240631</td>\n",
       "      <td>0.240632</td>\n",
       "      <td>0</td>\n",
       "      <td>0</td>\n",
       "    </tr>\n",
       "    <tr>\n",
       "      <th>1</th>\n",
       "      <td>1</td>\n",
       "      <td>661</td>\n",
       "      <td>3</td>\n",
       "      <td>978302109</td>\n",
       "      <td>2000-12-31 22:35:09</td>\n",
       "      <td>0.240646</td>\n",
       "      <td>0.144388</td>\n",
       "      <td>0</td>\n",
       "      <td>1</td>\n",
       "    </tr>\n",
       "    <tr>\n",
       "      <th>2</th>\n",
       "      <td>1</td>\n",
       "      <td>914</td>\n",
       "      <td>3</td>\n",
       "      <td>978301968</td>\n",
       "      <td>2000-12-31 22:32:48</td>\n",
       "      <td>0.240645</td>\n",
       "      <td>0.144387</td>\n",
       "      <td>0</td>\n",
       "      <td>2</td>\n",
       "    </tr>\n",
       "    <tr>\n",
       "      <th>3</th>\n",
       "      <td>1</td>\n",
       "      <td>3408</td>\n",
       "      <td>4</td>\n",
       "      <td>978300275</td>\n",
       "      <td>2000-12-31 22:04:35</td>\n",
       "      <td>0.240626</td>\n",
       "      <td>0.192501</td>\n",
       "      <td>0</td>\n",
       "      <td>3</td>\n",
       "    </tr>\n",
       "    <tr>\n",
       "      <th>4</th>\n",
       "      <td>1</td>\n",
       "      <td>2355</td>\n",
       "      <td>5</td>\n",
       "      <td>978824291</td>\n",
       "      <td>2001-01-06 23:38:11</td>\n",
       "      <td>0.246465</td>\n",
       "      <td>0.246465</td>\n",
       "      <td>0</td>\n",
       "      <td>4</td>\n",
       "    </tr>\n",
       "  </tbody>\n",
       "</table>\n",
       "</div>"
      ],
      "text/plain": [
       "   user_id  movie_id  rating  timestamp                time    weight  \\\n",
       "0        1      1193       5  978300760 2000-12-31 22:12:40  0.240631   \n",
       "1        1       661       3  978302109 2000-12-31 22:35:09  0.240646   \n",
       "2        1       914       3  978301968 2000-12-31 22:32:48  0.240645   \n",
       "3        1      3408       4  978300275 2000-12-31 22:04:35  0.240626   \n",
       "4        1      2355       5  978824291 2001-01-06 23:38:11  0.246465   \n",
       "\n",
       "   new_score  user  movie  \n",
       "0   0.240632     0      0  \n",
       "1   0.144388     0      1  \n",
       "2   0.144387     0      2  \n",
       "3   0.192501     0      3  \n",
       "4   0.246465     0      4  "
      ]
     },
     "execution_count": 142,
     "metadata": {},
     "output_type": "execute_result"
    }
   ],
   "source": [
    "ratings.head()"
   ]
  },
  {
   "cell_type": "markdown",
   "metadata": {},
   "source": [
    "# Train - Test - Validation Split"
   ]
  },
  {
   "cell_type": "code",
   "execution_count": 15,
   "metadata": {},
   "outputs": [],
   "source": [
    "def split_data(df: pd.DataFrame, test_size: float=0.1, val_size: float=0.1):\n",
    "    df = df.sample(frac=1, random_state=42)\n",
    "    X = df[['user', 'movie']].values\n",
    "    Y = df['new_score'].values\n",
    "    train_idx = int(len(df)*(1-test_size))\n",
    "    X_train, X_test, Y_train, Y_test = X[:train_idx], X[train_idx:], Y[:train_idx], Y[train_idx:]\n",
    "    train_idx = int(len(X_train)*(1-val_size))\n",
    "    X_train, X_val, Y_train, Y_val = X_train[:train_idx], X_train[train_idx:], Y_train[:train_idx], Y_train[train_idx:]\n",
    "    return X_train, X_val, X_test, Y_train, Y_val, Y_test"
   ]
  },
  {
   "cell_type": "code",
   "execution_count": 45,
   "metadata": {},
   "outputs": [],
   "source": [
    "X_train, X_val, X_test, Y_train, Y_val, Y_test = split_data(ratings, test_size=0.1, val_size=0.12)"
   ]
  },
  {
   "cell_type": "code",
   "execution_count": 46,
   "metadata": {},
   "outputs": [
    {
     "data": {
      "text/plain": [
       "(792165, 100021, 108023)"
      ]
     },
     "execution_count": 46,
     "metadata": {},
     "output_type": "execute_result"
    }
   ],
   "source": [
    "len(X_train), len(X_test), len(X_val)"
   ]
  },
  {
   "cell_type": "markdown",
   "metadata": {},
   "source": [
    "# Base Model : NN Collaborative Filtering Model"
   ]
  },
  {
   "cell_type": "code",
   "execution_count": 18,
   "metadata": {},
   "outputs": [],
   "source": [
    "def nncf_model(embedding_dim: int) -> tf.keras.Model:\n",
    "    # creating embedding layer\n",
    "    user_input = tf.keras.layers.Input(shape=[1], name='user_input')\n",
    "    user_embedding = tf.keras.layers.Embedding(\n",
    "        input_dim=len(ratings['user_id'].unique()), \n",
    "        output_dim=embedding_dim, \n",
    "        embeddings_initializer=\"he_normal\",\n",
    "        embeddings_regularizer=tf.keras.regularizers.l2(1e-6))(user_input)\n",
    "    # Flatten the user vector\n",
    "    user_vec = tf.keras.layers.Flatten()(user_embedding)\n",
    "\n",
    "    movie_input = tf.keras.layers.Input(shape=[1], name='movie_input')\n",
    "    movie_embedding = tf.keras.layers.Embedding(\n",
    "        input_dim=len(ratings['movie_id'].unique()), \n",
    "        output_dim=embedding_dim, \n",
    "        embeddings_initializer=\"he_normal\",\n",
    "        embeddings_regularizer=tf.keras.regularizers.l2(1e-6))(movie_input)\n",
    "    # Flatten the movie vector\n",
    "    movie_vec = tf.keras.layers.Flatten()(movie_embedding)\n",
    "    # Dense Layers\n",
    "    dense_layer1 = tf.keras.layers.Dense(30, activation='relu', kernel_initializer=\"he_normal\")(movie_vec)\n",
    "    dense_layer2 = tf.keras.layers.Dense(10, activation='relu', kernel_initializer=\"he_normal\")(dense_layer1)\n",
    "    dense_layer3 = tf.keras.layers.Dense(embedding_dim, activation='relu', kernel_initializer=\"he_normal\")(dense_layer2)\n",
    "\n",
    "    dense_layer4 = tf.keras.layers.Dense(30, activation='relu', kernel_initializer=\"he_normal\")(user_vec)\n",
    "    dense_layer5 = tf.keras.layers.Dense(10, activation='relu', kernel_initializer=\"he_normal\")(dense_layer4)\n",
    "    dense_layer6 = tf.keras.layers.Dense(embedding_dim, activation='relu', kernel_initializer=\"he_normal\")(dense_layer5)\n",
    "\n",
    "    # Dot product of user and movie embeddings\n",
    "    dot_product = tf.keras.layers.Dot(axes=1)([dense_layer6, dense_layer3])\n",
    "    prediction = tf.keras.layers.Dense(1, activation='sigmoid', kernel_initializer='lecun_uniform', name = 'prediction')(dot_product)\n",
    "    model = tf.keras.models.Model(inputs=[user_input, movie_input], outputs=prediction)\n",
    "    model.compile(optimizer='adam', loss='binary_crossentropy')\n",
    "    return model\n",
    "    "
   ]
  },
  {
   "cell_type": "code",
   "execution_count": 47,
   "metadata": {},
   "outputs": [],
   "source": [
    "model = nncf_model(embedding_dim=50)"
   ]
  },
  {
   "cell_type": "code",
   "execution_count": 48,
   "metadata": {},
   "outputs": [
    {
     "name": "stdout",
     "output_type": "stream",
     "text": [
      "Model: \"model_3\"\n",
      "__________________________________________________________________________________________________\n",
      " Layer (type)                   Output Shape         Param #     Connected to                     \n",
      "==================================================================================================\n",
      " user_input (InputLayer)        [(None, 1)]          0           []                               \n",
      "                                                                                                  \n",
      " movie_input (InputLayer)       [(None, 1)]          0           []                               \n",
      "                                                                                                  \n",
      " embedding_6 (Embedding)        (None, 1, 50)        302000      ['user_input[0][0]']             \n",
      "                                                                                                  \n",
      " embedding_7 (Embedding)        (None, 1, 50)        185300      ['movie_input[0][0]']            \n",
      "                                                                                                  \n",
      " flatten_6 (Flatten)            (None, 50)           0           ['embedding_6[0][0]']            \n",
      "                                                                                                  \n",
      " flatten_7 (Flatten)            (None, 50)           0           ['embedding_7[0][0]']            \n",
      "                                                                                                  \n",
      " dense_21 (Dense)               (None, 30)           1530        ['flatten_6[0][0]']              \n",
      "                                                                                                  \n",
      " dense_18 (Dense)               (None, 30)           1530        ['flatten_7[0][0]']              \n",
      "                                                                                                  \n",
      " dense_22 (Dense)               (None, 10)           310         ['dense_21[0][0]']               \n",
      "                                                                                                  \n",
      " dense_19 (Dense)               (None, 10)           310         ['dense_18[0][0]']               \n",
      "                                                                                                  \n",
      " dense_23 (Dense)               (None, 50)           550         ['dense_22[0][0]']               \n",
      "                                                                                                  \n",
      " dense_20 (Dense)               (None, 50)           550         ['dense_19[0][0]']               \n",
      "                                                                                                  \n",
      " dot_3 (Dot)                    (None, 1)            0           ['dense_23[0][0]',               \n",
      "                                                                  'dense_20[0][0]']               \n",
      "                                                                                                  \n",
      " prediction (Dense)             (None, 1)            2           ['dot_3[0][0]']                  \n",
      "                                                                                                  \n",
      "==================================================================================================\n",
      "Total params: 492,082\n",
      "Trainable params: 492,082\n",
      "Non-trainable params: 0\n",
      "__________________________________________________________________________________________________\n"
     ]
    }
   ],
   "source": [
    "model.summary()"
   ]
  },
  {
   "cell_type": "markdown",
   "metadata": {},
   "source": [
    "# Train the Model"
   ]
  },
  {
   "cell_type": "code",
   "execution_count": 49,
   "metadata": {},
   "outputs": [
    {
     "name": "stdout",
     "output_type": "stream",
     "text": [
      "Epoch 1/10\n",
      "12378/12378 [==============================] - 37s 3ms/step - loss: 0.3508 - val_loss: 0.3490\n",
      "Epoch 2/10\n",
      "12378/12378 [==============================] - 36s 3ms/step - loss: 0.3485 - val_loss: 0.3485\n",
      "Epoch 3/10\n",
      "12378/12378 [==============================] - 33s 3ms/step - loss: 0.3480 - val_loss: 0.3480\n",
      "Epoch 4/10\n",
      "12378/12378 [==============================] - 33s 3ms/step - loss: 0.3476 - val_loss: 0.3479\n",
      "Epoch 5/10\n",
      "12378/12378 [==============================] - 33s 3ms/step - loss: 0.3474 - val_loss: 0.3480\n",
      "Epoch 6/10\n",
      "12378/12378 [==============================] - 33s 3ms/step - loss: 0.3473 - val_loss: 0.3477\n",
      "Epoch 7/10\n",
      "12378/12378 [==============================] - 33s 3ms/step - loss: 0.3472 - val_loss: 0.3477\n",
      "Epoch 8/10\n",
      "12378/12378 [==============================] - 33s 3ms/step - loss: 0.3471 - val_loss: 0.3477\n",
      "Epoch 9/10\n",
      "12378/12378 [==============================] - 33s 3ms/step - loss: 0.3471 - val_loss: 0.3477\n",
      "Epoch 10/10\n",
      "12378/12378 [==============================] - 33s 3ms/step - loss: 0.3471 - val_loss: 0.3478\n"
     ]
    }
   ],
   "source": [
    "history = model.fit([X_train[:, 0], X_train[:,1]], Y_train, epochs=10, batch_size=64, validation_data=([X_test[:, 0], X_test[:,1]], Y_test))"
   ]
  },
  {
   "cell_type": "code",
   "execution_count": 43,
   "metadata": {},
   "outputs": [],
   "source": [
    "def plot_loss(history):\n",
    "    plt.plot(history.history['loss'])\n",
    "    plt.plot(history.history['val_loss'])\n",
    "    plt.title('Model loss')\n",
    "    plt.ylabel('loss')\n",
    "    plt.xlabel('epoch')\n",
    "    plt.legend(['train', 'test'], loc='upper right')\n",
    "    plt.show()"
   ]
  },
  {
   "cell_type": "code",
   "execution_count": 50,
   "metadata": {},
   "outputs": [
    {
     "data": {
      "image/png": "[encoded data removed]",
      "text/plain": [
       "<Figure size 432x288 with 1 Axes>"
      ]
     },
     "metadata": {
      "needs_background": "light"
     },
     "output_type": "display_data"
    }
   ],
   "source": [
    "plot_loss(history)"
   ]
  },
  {
   "cell_type": "markdown",
   "metadata": {},
   "source": [
    "# Make Recommendations for User"
   ]
  },
  {
   "cell_type": "markdown",
   "metadata": {},
   "source": [
    "I created new data frame for comparing the predicted and rated values."
   ]
  },
  {
   "cell_type": "code",
   "execution_count": 21,
   "metadata": {},
   "outputs": [],
   "source": [
    "def get_prediction(model: tf.keras.Model, X_test: np.ndarray, Y_test: np.ndarray) -> pd.DataFrame:\n",
    "    test_df = ['user_id', 'movie_id', 'rating', 'prediction']\n",
    "    test_df = pd.DataFrame(columns=test_df)\n",
    "    test_df['user_id'] = X_test[:, 0]\n",
    "    test_df['movie_id'] = X_test[:, 1]\n",
    "    test_df['rating'] = Y_test\n",
    "    test_df['prediction'] = model.predict([X_test[:, 0], X_test[:, 1]])\n",
    "    return test_df"
   ]
  },
  {
   "cell_type": "code",
   "execution_count": 51,
   "metadata": {},
   "outputs": [],
   "source": [
    "test_df = get_prediction(model, X_test, Y_test)"
   ]
  },
  {
   "cell_type": "markdown",
   "metadata": {},
   "source": [
    "### Evaulation of Hit Ratio\n",
    "The value of loss function actually doesn't give a solid idea about performance of the model. In order to evaulate model I calculated the hitting ratio, simply I compared the highest rated top n movies and top n recommened movies  of the user."
   ]
  },
  {
   "cell_type": "code",
   "execution_count": 22,
   "metadata": {},
   "outputs": [],
   "source": [
    "def calculate_hit_rate(reco_movie_ids, pred_movie_ids, n):\n",
    "  hits = 0\n",
    "  for movie_id in reco_movie_ids:\n",
    "    if movie_id in pred_movie_ids:\n",
    "      hits += 1\n",
    "  return hits / n"
   ]
  },
  {
   "cell_type": "markdown",
   "metadata": {},
   "source": [
    "### Hit Ratio of the Whole Model"
   ]
  },
  {
   "cell_type": "code",
   "execution_count": 23,
   "metadata": {},
   "outputs": [],
   "source": [
    "def calculate_avg_hit_rate(test_df: pd.DataFrame, n: Int=5) -> float:\n",
    "    total_hits = 0\n",
    "    for user_id in test_df['user_id'].unique():\n",
    "        hit_rate, _, _ = make_recommendations(user_id, test_df, n=5)\n",
    "        total_hits += hit_rate\n",
    "    return total_hits / len(test_df['user_id'].unique())"
   ]
  },
  {
   "cell_type": "code",
   "execution_count": 24,
   "metadata": {},
   "outputs": [],
   "source": [
    "def make_recommendations(user_id: Int, test_df: pd.DataFrame, n: Int=5):\n",
    "  user_ratings = test_df[test_df['user_id'] == user_id]\n",
    "  user_ratings= pd.merge(\n",
    "    user_ratings, movies, on=\"movie_id\"\n",
    "  ).sort_values(by='rating', ascending=False)\n",
    "  user_ratings = user_ratings.head(n)\n",
    "  preds = test_df[test_df['user_id'] == user_id]\n",
    "  preds= pd.merge(\n",
    "    preds, movies, on=\"movie_id\"\n",
    "  ).sort_values(by='prediction', ascending=False)\n",
    "  preds = preds.head(n)\n",
    "  hit_rate = calculate_hit_rate(user_ratings['movie_id'].tolist(), preds['movie_id'].tolist(), n)\n",
    "  return hit_rate, user_ratings, preds"
   ]
  },
  {
   "cell_type": "code",
   "execution_count": 54,
   "metadata": {},
   "outputs": [
    {
     "name": "stdout",
     "output_type": "stream",
     "text": [
      "Preferred items of user\n",
      "    user_id  movie_id    rating  prediction  \\\n",
      "8        28       615  0.238796    0.161973   \n",
      "5        28      1475  0.238795    0.181908   \n",
      "9        28       210  0.238794    0.184375   \n",
      "10       28       718  0.238652    0.198168   \n",
      "2        28       669  0.238650    0.199251   \n",
      "\n",
      "                                             title         genres  \n",
      "8   Bread and Chocolate (Pane e cioccolata) (1973)          Drama  \n",
      "5                Kama Sutra: A Tale of Love (1996)        Romance  \n",
      "9                                 Wild Bill (1995)        Western  \n",
      "10            Visitors, The (Les Visiteurs) (1993)  Comedy|Sci-Fi  \n",
      "2                                 Aparajito (1956)          Drama  \n",
      "Recommended items of user\n",
      "    user_id  movie_id    rating  prediction  \\\n",
      "2        28       669  0.238650    0.199251   \n",
      "10       28       718  0.238652    0.198168   \n",
      "9        28       210  0.238794    0.184375   \n",
      "5        28      1475  0.238795    0.181908   \n",
      "7        28       711  0.143278    0.169919   \n",
      "\n",
      "                                   title                genres  \n",
      "2                       Aparajito (1956)                 Drama  \n",
      "10  Visitors, The (Les Visiteurs) (1993)         Comedy|Sci-Fi  \n",
      "9                       Wild Bill (1995)               Western  \n",
      "5      Kama Sutra: A Tale of Love (1996)               Romance  \n",
      "7                         Flipper (1996)  Adventure|Children's  \n",
      "Hit rate: 0.8\n"
     ]
    }
   ],
   "source": [
    "hit_rate, user_ratings, preds = make_recommendations(28, test_df, n=5)\n",
    "print('Preferred items of user')\n",
    "print(user_ratings)\n",
    "print('Recommended items of user')\n",
    "print(preds)\n",
    "print('Hit rate:', hit_rate)"
   ]
  },
  {
   "cell_type": "markdown",
   "metadata": {},
   "source": [
    "### Mean Hit Ratio of the Model"
   ]
  },
  {
   "cell_type": "code",
   "execution_count": 55,
   "metadata": {},
   "outputs": [],
   "source": [
    "mean_hit_rate = calculate_avg_hit_rate(test_df, n=5)"
   ]
  },
  {
   "cell_type": "code",
   "execution_count": 56,
   "metadata": {},
   "outputs": [
    {
     "data": {
      "text/plain": [
       "0.5307485733467653"
      ]
     },
     "execution_count": 56,
     "metadata": {},
     "output_type": "execute_result"
    }
   ],
   "source": [
    "mean_hit_rate"
   ]
  },
  {
   "cell_type": "markdown",
   "metadata": {},
   "source": [
    "# Hyper Parameter Tuning with Keras Tuner on Validation Data"
   ]
  },
  {
   "cell_type": "markdown",
   "metadata": {},
   "source": [
    "Rewrite the model with hyperparameters : "
   ]
  },
  {
   "cell_type": "code",
   "execution_count": 96,
   "metadata": {},
   "outputs": [],
   "source": [
    "def nncf_model_hp(hp):\n",
    "    \"\"\"\n",
    "    Hyperparameter search space for NNCF model\n",
    "    Hyperparameters:\n",
    "    embedding_dim: int (default: 50)\n",
    "    L2 Regularization Coefficient: float (default: 1e-6)\n",
    "    Learning Rate For Model Optimizer : float (default: 0.001)\n",
    "    \n",
    "    \"\"\"\n",
    "    hp_embed_dims = hp.Int('embedding_dim', min_value=40, max_value=80, step=20)\n",
    "    hp_reg_coef = hp.Choice('reg_coeff', values=[1e-4, 1e-6, 1e-8])\n",
    "    hp_learning_rate = hp.Choice('learning_rate', values=[1e-3, 1e-4, 1e-5])\n",
    "\n",
    "    user_input = tf.keras.layers.Input(shape=[1], name='user_input')\n",
    "    user_embedding = tf.keras.layers.Embedding(\n",
    "        input_dim=len(ratings['user_id'].unique()), \n",
    "        output_dim=hp_embed_dims, \n",
    "        embeddings_initializer=\"he_normal\",\n",
    "        embeddings_regularizer=tf.keras.regularizers.l2(hp_reg_coef))(user_input)\n",
    "    user_vec = tf.keras.layers.Flatten()(user_embedding)\n",
    "\n",
    "    movie_input = tf.keras.layers.Input(shape=[1], name='movie_input')\n",
    "    movie_embedding = tf.keras.layers.Embedding(\n",
    "        input_dim=len(ratings['movie_id'].unique()), \n",
    "        output_dim=hp_embed_dims, \n",
    "        embeddings_initializer=\"he_normal\",\n",
    "        embeddings_regularizer=tf.keras.regularizers.l2(hp_reg_coef))(movie_input)\n",
    "    movie_vec = tf.keras.layers.Flatten()(movie_embedding)\n",
    "\n",
    "    dense_layer1 = tf.keras.layers.Dense(30, activation='relu', kernel_initializer=\"he_normal\")(movie_vec)\n",
    "    dense_layer2 = tf.keras.layers.Dense(10, activation='relu', kernel_initializer=\"he_normal\")(dense_layer1)\n",
    "    dense_layer3 = tf.keras.layers.Dense(hp_embed_dims, activation='relu', kernel_initializer=\"he_normal\")(dense_layer2)\n",
    "\n",
    "    dense_layer4 = tf.keras.layers.Dense(30, activation='relu', kernel_initializer=\"he_normal\")(user_vec)\n",
    "    dense_layer5 = tf.keras.layers.Dense(10, activation='relu', kernel_initializer=\"he_normal\")(dense_layer4)\n",
    "    dense_layer6 = tf.keras.layers.Dense(hp_embed_dims, activation='relu', kernel_initializer=\"he_normal\")(dense_layer5)\n",
    "\n",
    "    dot_product = tf.keras.layers.Dot(axes=1)([dense_layer6, dense_layer3])\n",
    "\n",
    "    prediction = tf.keras.layers.Dense(1, activation='sigmoid', kernel_initializer='lecun_uniform', name = 'prediction')(dot_product)\n",
    "    model = tf.keras.models.Model(inputs=[user_input, movie_input], outputs=prediction)\n",
    "    model.compile(optimizer=tf.keras.optimizers.Adam(learning_rate=hp_learning_rate), \n",
    "                loss='binary_crossentropy')\n",
    "    return model"
   ]
  },
  {
   "cell_type": "code",
   "execution_count": 99,
   "metadata": {},
   "outputs": [],
   "source": [
    "tuner = kt.Hyperband(nncf_model_hp,\n",
    "                    objective='val_loss',\n",
    "                    max_epochs=6,\n",
    "                    factor=3,\n",
    "                    directory='nncf_tuner', \n",
    "                    project_name='nncf')"
   ]
  },
  {
   "cell_type": "code",
   "execution_count": 100,
   "metadata": {},
   "outputs": [
    {
     "name": "stdout",
     "output_type": "stream",
     "text": [
      "Trial 10 Complete [00h 03m 22s]\n",
      "val_loss: 0.3475494384765625\n",
      "\n",
      "Best val_loss So Far: 0.34737256169319153\n",
      "Total elapsed time: 00h 27m 41s\n",
      "INFO:tensorflow:Oracle triggered exit\n"
     ]
    }
   ],
   "source": [
    "tuner.search([X_train[:, 0], X_train[:,1]], Y_train, epochs=10, batch_size=64, validation_data=([X_val[:, 0], X_val[:,1]], Y_val), callbacks=[tf.keras.callbacks.TensorBoard(\"nncf_tuner/tb_logs\")])"
   ]
  },
  {
   "cell_type": "code",
   "execution_count": 101,
   "metadata": {},
   "outputs": [
    {
     "name": "stdout",
     "output_type": "stream",
     "text": [
      "\n",
      "The hyperparameter search is complete. The optimal number of embedding dimension is 40,  and the optimal learning rate for the optimizer is 1e-05 and the optimal L2 regularization coefficient of embeddings is 1e-08.\n",
      "\n",
      "Search space summary\n",
      "Default search space size: 3\n",
      "embedding_dim (Int)\n",
      "{'default': None, 'conditions': [], 'min_value': 40, 'max_value': 80, 'step': 20, 'sampling': None}\n",
      "reg_coeff (Choice)\n",
      "{'default': 0.0001, 'conditions': [], 'values': [0.0001, 1e-06, 1e-08], 'ordered': True}\n",
      "learning_rate (Choice)\n",
      "{'default': 0.001, 'conditions': [], 'values': [0.001, 0.0001, 1e-05], 'ordered': True}\n"
     ]
    }
   ],
   "source": [
    "# Get the optimal hyperparameters\n",
    "best_hps=tuner.get_best_hyperparameters(num_trials=1)[0]\n",
    "\n",
    "print(f\"\"\"\n",
    "The hyperparameter search is complete. The optimal number of embedding dimension is {best_hps.get('embedding_dim')},  and the optimal learning rate for the optimizer is {best_hps.get('learning_rate')} and the optimal L2 regularization coefficient of embeddings is {best_hps.get('reg_coeff')}.\n",
    "\"\"\")\n",
    "tuner.search_space_summary()"
   ]
  },
  {
   "cell_type": "markdown",
   "metadata": {},
   "source": [
    "### Build and Retrain the Model"
   ]
  },
  {
   "cell_type": "code",
   "execution_count": 102,
   "metadata": {},
   "outputs": [
    {
     "name": "stdout",
     "output_type": "stream",
     "text": [
      "Epoch 1/10\n",
      "12378/12378 [==============================] - 33s 3ms/step - loss: 0.4133 - val_loss: 0.3532\n",
      "Epoch 2/10\n",
      "12378/12378 [==============================] - 31s 2ms/step - loss: 0.3497 - val_loss: 0.3484\n",
      "Epoch 3/10\n",
      "12378/12378 [==============================] - 30s 2ms/step - loss: 0.3477 - val_loss: 0.3477\n",
      "Epoch 4/10\n",
      "12378/12378 [==============================] - 31s 2ms/step - loss: 0.3473 - val_loss: 0.3475\n",
      "Epoch 5/10\n",
      "12378/12378 [==============================] - 31s 2ms/step - loss: 0.3472 - val_loss: 0.3475\n",
      "Epoch 6/10\n",
      "12378/12378 [==============================] - 31s 2ms/step - loss: 0.3472 - val_loss: 0.3475\n",
      "Epoch 7/10\n",
      "12378/12378 [==============================] - 31s 3ms/step - loss: 0.3471 - val_loss: 0.3475\n",
      "Epoch 8/10\n",
      "12378/12378 [==============================] - 31s 3ms/step - loss: 0.3471 - val_loss: 0.3474\n",
      "Epoch 9/10\n",
      "12378/12378 [==============================] - 31s 2ms/step - loss: 0.3471 - val_loss: 0.3474\n",
      "Epoch 10/10\n",
      "12378/12378 [==============================] - 31s 2ms/step - loss: 0.3471 - val_loss: 0.3474\n",
      "Best epoch: 1\n"
     ]
    }
   ],
   "source": [
    "model = tuner.hypermodel.build(best_hps)\n",
    "history = model.fit([X_train[:, 0], X_train[:,1]], Y_train, epochs=10, batch_size=64, validation_data=([X_test[:, 0], X_test[:,1]], Y_test))\n",
    "\n",
    "val_loss_per_epoch = history.history['val_loss']\n",
    "best_epoch = val_loss_per_epoch.index(max(val_loss_per_epoch)) + 1\n",
    "print('Best epoch: %d' % (best_epoch,))"
   ]
  },
  {
   "cell_type": "code",
   "execution_count": 105,
   "metadata": {},
   "outputs": [
    {
     "data": {
      "text/plain": [
       "0.5219201074186003"
      ]
     },
     "execution_count": 105,
     "metadata": {},
     "output_type": "execute_result"
    }
   ],
   "source": [
    "tuned_test_df = get_prediction(model, X_test, Y_test)\n",
    "tuned_mean_hit_rate = calculate_avg_hit_rate(tuned_test_df, n=5)\n",
    "tuned_mean_hit_rate"
   ]
  },
  {
   "cell_type": "code",
   "execution_count": 104,
   "metadata": {},
   "outputs": [
    {
     "data": {
      "image/png": "[encoded data removed]",
      "text/plain": [
       "<Figure size 432x288 with 1 Axes>"
      ]
     },
     "metadata": {
      "needs_background": "light"
     },
     "output_type": "display_data"
    }
   ],
   "source": [
    "plot_loss(history)"
   ]
  },
  {
   "cell_type": "markdown",
   "metadata": {},
   "source": [
    "### Save Model"
   ]
  },
  {
   "cell_type": "code",
   "execution_count": 106,
   "metadata": {},
   "outputs": [
    {
     "name": "stderr",
     "output_type": "stream",
     "text": [
      "2022-05-07 15:23:28.012698: W tensorflow/python/util/util.cc:368] Sets are not currently considered sequences, but this may change in the future, so consider avoiding using them.\n"
     ]
    },
    {
     "name": "stdout",
     "output_type": "stream",
     "text": [
      "INFO:tensorflow:Assets written to: saved_model/tuned_model/assets\n"
     ]
    }
   ],
   "source": [
    "!mkdir -p saved_model\n",
    "model.save('saved_model/tuned_model')"
   ]
  },
  {
   "cell_type": "markdown",
   "metadata": {},
   "source": [
    "### Making 5 Recommendation to given user\n",
    "\n",
    "User ids : 0 - 6039"
   ]
  },
  {
   "cell_type": "code",
   "execution_count": 409,
   "metadata": {},
   "outputs": [],
   "source": [
    "def make_reco_to_user(model, df, movies, user_id, n=5):\n",
    "    seen_movie_ids = df[df['user'] == user_id]['movie'].values\n",
    "    not_seen_movies = movies[~movies['movie_id'].isin(seen_movie_ids)]['movie_id']\n",
    "    not_seen_movies = list(set(not_seen_movies).intersection(set(movie_map.keys())))\n",
    "    reco = ['user_id', 'movie_id','prediction']\n",
    "    reco = pd.DataFrame(columns=reco)\n",
    "    res = ['user_id', 'movie_id', 'prediction']\n",
    "    res = pd.DataFrame(columns=res)\n",
    "    reco['user_id'] = np.full(len(df['user'].values), user_id, dtype = np.int64)\n",
    "    reco['movie_id'] = df['movie'].values\n",
    "    X = reco[['user_id', 'movie_id']].values\n",
    "    reco['prediction'] = model.predict([X[:, 0], X[:, 1]])\n",
    "    reco= pd.merge(reco, movies, on=\"movie_id\")\n",
    "    reco = reco.sort_values(by='prediction', ascending=False).drop_duplicates(subset=['user_id', 'movie_id'], keep='first')\n",
    "    count = 0\n",
    "    for i in range(len(reco)):\n",
    "        if reco['movie_id'].values[i] in not_seen_movies:\n",
    "            res = res.append(reco.iloc[i, :])\n",
    "            count = count + 1\n",
    "            if count == n:\n",
    "                break\n",
    "    return res, reco"
   ]
  },
  {
   "cell_type": "code",
   "execution_count": 410,
   "metadata": {},
   "outputs": [
    {
     "name": "stdout",
     "output_type": "stream",
     "text": [
      "Recommended items of user\n",
      "       user_id movie_id prediction          genres  \\\n",
      "955584    1253     2715   0.372313  Comedy|Romance   \n",
      "935596    1253     2453   0.356195   Drama|Fantasy   \n",
      "792704    1253     1485   0.335976          Comedy   \n",
      "947074    1253     2587   0.283401          Comedy   \n",
      "976286    1253     3237   0.281373     Documentary   \n",
      "\n",
      "                                     title  \n",
      "955584        Velocity of Gary, The (1998)  \n",
      "935596       Boy Who Could Fly, The (1986)  \n",
      "792704                    Liar Liar (1997)  \n",
      "947074                         Life (1999)  \n",
      "976286  Kestrel's Eye (Falkens öga) (1998)  \n"
     ]
    },
    {
     "name": "stderr",
     "output_type": "stream",
     "text": [
      "/var/folders/74/j1wwdzv12_gdkxxh7r_y7h480000gn/T/ipykernel_28252/67678221.py:22: FutureWarning: The frame.append method is deprecated and will be removed from pandas in a future version. Use pandas.concat instead.\n",
      "  res = res.append(reco.iloc[i, :])\n",
      "/var/folders/74/j1wwdzv12_gdkxxh7r_y7h480000gn/T/ipykernel_28252/67678221.py:22: FutureWarning: The frame.append method is deprecated and will be removed from pandas in a future version. Use pandas.concat instead.\n",
      "  res = res.append(reco.iloc[i, :])\n",
      "/var/folders/74/j1wwdzv12_gdkxxh7r_y7h480000gn/T/ipykernel_28252/67678221.py:22: FutureWarning: The frame.append method is deprecated and will be removed from pandas in a future version. Use pandas.concat instead.\n",
      "  res = res.append(reco.iloc[i, :])\n",
      "/var/folders/74/j1wwdzv12_gdkxxh7r_y7h480000gn/T/ipykernel_28252/67678221.py:22: FutureWarning: The frame.append method is deprecated and will be removed from pandas in a future version. Use pandas.concat instead.\n",
      "  res = res.append(reco.iloc[i, :])\n",
      "/var/folders/74/j1wwdzv12_gdkxxh7r_y7h480000gn/T/ipykernel_28252/67678221.py:22: FutureWarning: The frame.append method is deprecated and will be removed from pandas in a future version. Use pandas.concat instead.\n",
      "  res = res.append(reco.iloc[i, :])\n"
     ]
    }
   ],
   "source": [
    "res, recos = make_reco_to_user(model, ratings, movies, 1253, n=5)\n",
    "print('Recommended items of user')\n",
    "print(res)"
   ]
  },
  {
   "cell_type": "markdown",
   "metadata": {},
   "source": []
  }
 ],
 "metadata": {
  "interpreter": {
   "hash": "aee8b7b246df8f9039afb4144a1f6fd8d2ca17a180786b69acc140d282b71a49"
  },
  "kernelspec": {
   "display_name": "Python 3.9.7 64-bit",
   "language": "python",
   "name": "python3"
  },
  "language_info": {
   "codemirror_mode": {
    "name": "ipython",
    "version": 3
   },
   "file_extension": ".py",
   "mimetype": "text/x-python",
   "name": "python",
   "nbconvert_exporter": "python",
   "pygments_lexer": "ipython3",
   "version": "3.9.12"
  },
  "orig_nbformat": 4
 },
 "nbformat": 4,
 "nbformat_minor": 2
}
